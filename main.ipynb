{
 "cells": [
  {
   "cell_type": "code",
   "execution_count": null,
   "metadata": {},
   "outputs": [],
   "source": [
    "import pandas as pd\n",
    "import requests\n",
    "\n",
    "from bs4 import BeautifulSoup\n",
    "from requests.adapters import HTTPAdapter\n",
    "from urllib3.util.retry import Retry\n",
    "\n",
    "import warnings\n",
    "\n",
    "warnings.filterwarnings('ignore')\n",
    "\n",
    "with open('user.txt', 'r') as file:\n",
    "    STEAM_ID, API_KEY = file.read().split('\\n')\n",
    "\n",
    "GAMES_URL = 'https://api.steampowered.com/IPlayerService/GetOwnedGames/v0001?key={}'\n",
    "GAMES_URL = GAMES_URL.format(API_KEY)\n",
    "GAMES_URL = GAMES_URL + '&include_played_free_games=1&skip_unvetted_apps=0&include_appinfo=1&steamid={}'\n",
    "GAMES_URL = GAMES_URL.format(STEAM_ID)\n",
    "\n",
    "ACHIEV_URL = '&key=' + API_KEY + '&steamid=' + STEAM_ID\n",
    "ACHIEV_URL = 'https://api.steampowered.com/ISteamUserStats/GetPlayerAchievements/v0001/?appid={}' + ACHIEV_URL\n",
    "\n",
    "session = requests.Session()\n",
    "retry = Retry(connect=3, backoff_factor=0.5)\n",
    "adapter = HTTPAdapter(max_retries=retry)\n",
    "session.mount('http://', adapter)\n",
    "session.mount('https://', adapter)"
   ]
  },
  {
   "cell_type": "code",
   "execution_count": null,
   "metadata": {},
   "outputs": [],
   "source": [
    "response = session.get(GAMES_URL)\n",
    "result = response.json()[\"response\"][\"games\"]\n",
    "result = sorted(result, key=lambda g: g[\"playtime_forever\"], reverse=True)\n",
    "df = pd.json_normalize(result)"
   ]
  },
  {
   "cell_type": "code",
   "execution_count": null,
   "metadata": {},
   "outputs": [],
   "source": [
    "for appid in df['appid']:\n",
    "    response = session.get(ACHIEV_URL.format(appid))\n",
    "\n",
    "    try:\n",
    "        result = response.json()['playerstats']['achievements']\n",
    "        achievements = pd.json_normalize(result)\n",
    "        unlocked = len(achievements[achievements.achieved == 1])\n",
    "        locked = len(achievements[achievements.achieved == 0])\n",
    "        total = unlocked + locked\n",
    "        perfect = 0\n",
    "\n",
    "        if unlocked == total:\n",
    "            perfect = 1\n",
    "\n",
    "    except KeyError:\n",
    "        unlocked, locked, total, perfect = 0, 0, 0, 0\n",
    "\n",
    "    df.loc[df.appid == appid, 'achiev_unlocked'] = unlocked\n",
    "    df.loc[df.appid == appid, 'achiev_locked'] = locked\n",
    "    df.loc[df.appid == appid, 'achiev_total'] = total\n",
    "    df.loc[df.appid == appid, 'achiev_perfect'] = perfect"
   ]
  },
  {
   "cell_type": "code",
   "execution_count": null,
   "metadata": {},
   "outputs": [],
   "source": [
    "for i in range(20):\n",
    "\tdf['tag_' + str(i+1)] = ''"
   ]
  },
  {
   "cell_type": "code",
   "execution_count": null,
   "metadata": {},
   "outputs": [],
   "source": [
    "for appid in df['appid']:\n",
    "    page = session.get(\"https://store.steampowered.com/app/\" + str(appid) + \"/\")\n",
    "    soup = BeautifulSoup(page.content)\n",
    "    tags = soup.find_all(\"a\", {\"class\": \"app_tag\"})\n",
    "    \n",
    "    k = 1\n",
    "    for tag in tags:\n",
    "        tag = tag.text.strip()\n",
    "        df.loc[df.appid == appid, 'tag_' + str(k)] = tag\n",
    "        k += 1"
   ]
  }
 ],
 "metadata": {
  "kernelspec": {
   "display_name": "Python 3",
   "language": "python",
   "name": "python3"
  },
  "language_info": {
   "codemirror_mode": {
    "name": "ipython",
    "version": 3
   },
   "file_extension": ".py",
   "mimetype": "text/x-python",
   "name": "python",
   "nbconvert_exporter": "python",
   "pygments_lexer": "ipython3",
   "version": "3.10.3"
  },
  "orig_nbformat": 4
 },
 "nbformat": 4,
 "nbformat_minor": 2
}
