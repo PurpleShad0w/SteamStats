{
 "cells": [
  {
   "cell_type": "code",
   "execution_count": null,
   "metadata": {},
   "outputs": [],
   "source": [
    "import json\n",
    "import pandas as pd\n",
    "import requests\n",
    "\n",
    "from collections import defaultdict\n",
    "from requests.adapters import HTTPAdapter\n",
    "from urllib3.util.retry import Retry\n",
    "\n",
    "import warnings\n",
    "\n",
    "warnings.filterwarnings('ignore')\n",
    "\n",
    "with open('user.txt', 'r') as file:\n",
    "\tSTEAM_ID, API_KEY = file.read().split('\\n')\n",
    "\n",
    "GAMES_URL = 'https://api.steampowered.com/IPlayerService/GetOwnedGames/v0001?key={}'\n",
    "GAMES_URL = GAMES_URL.format(API_KEY)\n",
    "GAMES_URL = GAMES_URL + '&include_played_free_games=1&skip_unvetted_apps=0&include_appinfo=1&steamid={}'\n",
    "GAMES_URL = GAMES_URL.format(STEAM_ID)\n",
    "\n",
    "ACHIEV_URL = '&key=' + API_KEY + '&steamid=' + STEAM_ID\n",
    "ACHIEV_URL = 'https://api.steampowered.com/ISteamUserStats/GetPlayerAchievements/v0001/?appid={}' + ACHIEV_URL\n",
    "\n",
    "APP_URL = 'https://api.steamcmd.net/v1/info/{}'\n",
    "\n",
    "session = requests.Session()\n",
    "retry = Retry(connect=3, backoff_factor=0.5)\n",
    "adapter = HTTPAdapter(max_retries=retry)\n",
    "session.mount('http://', adapter)\n",
    "session.mount('https://', adapter)"
   ]
  },
  {
   "cell_type": "code",
   "execution_count": null,
   "metadata": {},
   "outputs": [],
   "source": [
    "response = session.get(GAMES_URL)\n",
    "result = response.json()[\"response\"][\"games\"]\n",
    "result = sorted(result, key=lambda g: g[\"playtime_forever\"], reverse=True)\n",
    "df = pd.json_normalize(result)"
   ]
  },
  {
   "cell_type": "markdown",
   "metadata": {},
   "source": [
    "### Collecting Achievements"
   ]
  },
  {
   "cell_type": "code",
   "execution_count": null,
   "metadata": {},
   "outputs": [],
   "source": [
    "achievements_data = []\n",
    "\n",
    "for appid, name in zip(df['appid'], df['name']):\n",
    "\tresponse = session.get(ACHIEV_URL.format(appid))\n",
    "\n",
    "\ttry:\n",
    "\t\tresult = response.json()['playerstats']['achievements']\n",
    "\t\tachievements = pd.json_normalize(result)\n",
    "\t\tunlocked = (achievements['achieved'] == 1).sum()\n",
    "\t\tlocked = (achievements['achieved'] == 0).sum()\n",
    "\t\ttotal = unlocked + locked\n",
    "\t\tperfect = int(unlocked == total)\n",
    "\n",
    "\texcept KeyError:\n",
    "\t\tunlocked, locked, total, perfect = 0, 0, 0, 0\n",
    "\n",
    "\tachievements_data.append([appid, unlocked, locked, total, perfect])\n",
    "\tprint(\"Collected achievements for {}\".format(name))\n",
    "\n",
    "achievements_df = pd.DataFrame(achievements_data, columns=['appid', 'achievements_unlocked', 'achievements_locked', 'achievements_total', 'achievements_perfect'])\n",
    "df = df.merge(achievements_df, on='appid')"
   ]
  },
  {
   "cell_type": "markdown",
   "metadata": {},
   "source": [
    "### Collecting Tags"
   ]
  },
  {
   "cell_type": "code",
   "execution_count": null,
   "metadata": {},
   "outputs": [],
   "source": [
    "with open(\"steamdb_tags.json\", \"r\", encoding=\"utf-8\") as f:\n",
    "\ttags_dict = json.load(f)\n",
    "\n",
    "for appid, name in zip(df['appid'], df['name']):\n",
    "\tresponse = session.get(APP_URL.format(appid))\n",
    "\ttry:\n",
    "\t\ttags = response.json()['data'][str(appid)]['common']['store_tags']\n",
    "\texcept KeyError:\n",
    "\t\tprint(\"No tags for {}\".format(name))\n",
    "\t\tcontinue\n",
    "\ttags = dict(sorted(tags.items(), key=lambda x: int(x[0])))\n",
    "\n",
    "\tfor n, tag in tags.items():\n",
    "\t\ttag = tags_dict[str(tag)]\n",
    "\t\tdf.loc[df.appid == appid, 'tag_{}'.format(n)] = tag\n",
    "\n",
    "\tprint(\"Collected tags for {}\".format(name))"
   ]
  },
  {
   "cell_type": "markdown",
   "metadata": {},
   "source": [
    "### Calcuting Total Playtime using Tags"
   ]
  },
  {
   "cell_type": "code",
   "execution_count": null,
   "metadata": {},
   "outputs": [],
   "source": [
    "weights = [round(max(0, 1 - i * 0.0265), 2) for i in range(20)]\n",
    "\n",
    "tag_playtime = defaultdict(float)\n",
    "tag_playtime_weighted = defaultdict(float)\n",
    "\n",
    "for _, row in df.iterrows():\n",
    "\tplaytime = row['playtime_forever']\n",
    "\tfor i in range(20):\n",
    "\t\ttag_column = f'tag_{i}'\n",
    "\t\tif pd.notna(row[tag_column]):\n",
    "\t\t\ttag = row[tag_column]\n",
    "\t\t\ttag_playtime[tag] += playtime\n",
    "\t\t\ttag_playtime_weighted[tag] += playtime * weights[i]\n",
    "\n",
    "tag_playtime_df = pd.DataFrame(tag_playtime.items(), columns=[\"Tag\", \"Total Playtime\"])\n",
    "tag_playtime_df['Total Playtime (hours)'] = round(tag_playtime_df['Total Playtime'] / 60, 2)\n",
    "\n",
    "tag_playtime_weighted_df = pd.DataFrame(tag_playtime_weighted.items(), columns=[\"Tag\", \"Total Weighted Playtime\"])\n",
    "tag_playtime_weighted_df['Total Weighted Playtime (hours)'] = round(tag_playtime_weighted_df['Total Weighted Playtime'] / 60, 2)\n",
    "tag_playtime_weighted_df['Total Weighted Playtime'] = round(tag_playtime_weighted_df['Total Weighted Playtime'], 2)\n",
    "\n",
    "tag_playtime_df = pd.merge(tag_playtime_df, tag_playtime_weighted_df, on=\"Tag\")\n",
    "tag_playtime_df = tag_playtime_df.sort_values(by=\"Total Weighted Playtime\", ascending=False)"
   ]
  }
 ],
 "metadata": {
  "kernelspec": {
   "display_name": "Python 3",
   "language": "python",
   "name": "python3"
  },
  "language_info": {
   "codemirror_mode": {
    "name": "ipython",
    "version": 3
   },
   "file_extension": ".py",
   "mimetype": "text/x-python",
   "name": "python",
   "nbconvert_exporter": "python",
   "pygments_lexer": "ipython3",
   "version": "3.12.6"
  },
  "orig_nbformat": 4
 },
 "nbformat": 4,
 "nbformat_minor": 2
}
